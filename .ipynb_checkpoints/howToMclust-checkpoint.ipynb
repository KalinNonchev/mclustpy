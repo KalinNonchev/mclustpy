{
 "cells": [
  {
   "cell_type": "code",
   "execution_count": null,
   "id": "5585e3d8-9614-4f15-98a2-c3f5bc2a2296",
   "metadata": {},
   "outputs": [],
   "source": [
    "import mclustpy"
   ]
  },
  {
   "cell_type": "code",
   "execution_count": null,
   "id": "0690f7e2-4f84-4361-b2e9-ead86c603977",
   "metadata": {},
   "outputs": [],
   "source": []
  }
 ],
 "metadata": {
  "kernelspec": {
   "display_name": "Python 3 (ipykernel)",
   "language": "python",
   "name": "python3"
  },
  "language_info": {
   "codemirror_mode": {
    "name": "ipython",
    "version": 3
   },
   "file_extension": ".py",
   "mimetype": "text/x-python",
   "name": "python",
   "nbconvert_exporter": "python",
   "pygments_lexer": "ipython3",
   "version": "3.7.3"
  }
 },
 "nbformat": 4,
 "nbformat_minor": 5
}
