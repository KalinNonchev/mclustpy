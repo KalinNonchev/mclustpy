{
 "cells": [
  {
   "cell_type": "markdown",
   "id": "3ad59af2-d790-4ba5-b0f6-38f665f3f41d",
   "metadata": {},
   "source": [
    "## Import package"
   ]
  },
  {
   "cell_type": "code",
   "execution_count": null,
   "id": "925401ec-3729-4edd-8e90-13f007686daa",
   "metadata": {},
   "outputs": [],
   "source": [
    "import mclustpy\n",
    "import numpy as np"
   ]
  },
  {
   "cell_type": "markdown",
   "id": "344ffd1a-6c1a-4695-ad06-85c9d01ee7e8",
   "metadata": {},
   "source": [
    "## Generate random data to fit the model"
   ]
  },
  {
   "cell_type": "code",
   "execution_count": null,
   "id": "f8334f81-7a3d-4041-ae4a-48573d0de684",
   "metadata": {},
   "outputs": [],
   "source": [
    "data = np.random.rand(1000, 10)\n",
    "data.shape"
   ]
  },
  {
   "cell_type": "markdown",
   "id": "4c6d6e69-c44c-4e0d-81f7-1239e4c7c3b8",
   "metadata": {},
   "source": [
    "## Fit Model"
   ]
  },
  {
   "cell_type": "code",
   "execution_count": null,
   "id": "a8b38661-bb20-4082-b533-77fe4c0cb926",
   "metadata": {},
   "outputs": [],
   "source": [
    "res = mclustpy.mclustpy(data, G=9, modelNames='EEE', random_seed=2020)"
   ]
  },
  {
   "cell_type": "code",
   "execution_count": null,
   "id": "5ce31ef1-d7d9-4bee-b8c9-3632196b85e6",
   "metadata": {},
   "outputs": [],
   "source": [
    "res"
   ]
  },
  {
   "cell_type": "code",
   "execution_count": null,
   "id": "10dae56f-d766-407b-aad0-31b8bb5c55f4",
   "metadata": {},
   "outputs": [],
   "source": []
  }
 ],
 "metadata": {
  "kernelspec": {
   "display_name": "Python 3 (ipykernel)",
   "language": "python",
   "name": "python3"
  },
  "language_info": {
   "codemirror_mode": {
    "name": "ipython",
    "version": 3
   },
   "file_extension": ".py",
   "mimetype": "text/x-python",
   "name": "python",
   "nbconvert_exporter": "python",
   "pygments_lexer": "ipython3",
   "version": "3.7.3"
  }
 },
 "nbformat": 4,
 "nbformat_minor": 5
}
